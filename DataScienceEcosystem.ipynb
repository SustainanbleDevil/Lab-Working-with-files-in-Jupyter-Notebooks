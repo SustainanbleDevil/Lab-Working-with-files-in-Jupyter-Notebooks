{
 "cells": [
  {
   "cell_type": "markdown",
   "id": "9d873b7d-3e60-422c-949c-8953d93ce034",
   "metadata": {},
   "source": [
    "# Data Science Tools and Ecosystem"
   ]
  },
  {
   "cell_type": "markdown",
   "id": "72142af7-198b-4fc6-9632-aa312e214093",
   "metadata": {},
   "source": [
    "In this notebook, Data Science Tools and Ecosystem are summarized."
   ]
  },
  {
   "cell_type": "markdown",
   "id": "5f757428-8692-419d-adfb-eb86253499a4",
   "metadata": {},
   "source": [
    "Some of the popular languages that Data Scientists use are:\n",
    "1. Python\n",
    "2. SQL\n",
    "3. R"
   ]
  },
  {
   "cell_type": "markdown",
   "id": "d2556f27-39c4-4ea8-8627-512abd7b5a70",
   "metadata": {},
   "source": [
    "Some of the commonly used libraries used by Data Scientists include:\n",
    "1. Pandas\n",
    "2. Matlab\n",
    "3. TensorFlow"
   ]
  },
  {
   "cell_type": "markdown",
   "id": "60ff5bfa-9f1d-4ae3-9d65-d746190229ff",
   "metadata": {},
   "source": [
    "| Data Science Tools |\n",
    "| ------------------ |\n",
    "| R Studio           |\n",
    "| Jupyter Notebooks  |\n",
    "| Power BI           |"
   ]
  },
  {
   "cell_type": "markdown",
   "id": "4c0523eb-50fb-4462-ad85-83bb50857b8b",
   "metadata": {},
   "source": [
    "### Below are a few examples of evaluating arithmetic expressions in Python"
   ]
  },
  {
   "cell_type": "code",
   "execution_count": 11,
   "id": "3378e98c-00f0-413b-a45c-ae63ef99f939",
   "metadata": {
    "tags": []
   },
   "outputs": [
    {
     "data": {
      "text/plain": [
       "17"
      ]
     },
     "execution_count": 11,
     "metadata": {},
     "output_type": "execute_result"
    }
   ],
   "source": [
    "#This a simple arithmetic expression to mutiply then add integers\n",
    "(3*4)+5"
   ]
  },
  {
   "cell_type": "code",
   "execution_count": 14,
   "id": "1c6680dd-04c1-40fb-b337-529f001f8893",
   "metadata": {
    "tags": []
   },
   "outputs": [
    {
     "name": "stdout",
     "output_type": "stream",
     "text": [
      "3.3333333333333335\n"
     ]
    }
   ],
   "source": [
    "#This will convert 200 minutes to hours by diving by 60\n",
    "Min = 200\n",
    "Hours = 60\n",
    "print(Min/Hours)"
   ]
  },
  {
   "cell_type": "markdown",
   "id": "2005153b-8f20-44e4-9806-0087e59f5f41",
   "metadata": {},
   "source": [
    "### **Objectives**:\n",
    "* List the tasks that a data scientist needs to perform to build a model\n",
    "* List the various libraries: scientific, visualization, machine learning, and deep learning\n",
    "* Define REST API in relation to request and response\n",
    "* Describe data sets and sources of data\n",
    "* Explore open data sets on the Data Asset eXchange"
   ]
  },
  {
   "cell_type": "markdown",
   "id": "026421f7-d81d-4b44-8d47-4b1a9d16c3f7",
   "metadata": {},
   "source": [
    "### **Eric Johnson** Author"
   ]
  }
 ],
 "metadata": {
  "kernelspec": {
   "display_name": "Python",
   "language": "python",
   "name": "conda-env-python-py"
  },
  "language_info": {
   "codemirror_mode": {
    "name": "ipython",
    "version": 3
   },
   "file_extension": ".py",
   "mimetype": "text/x-python",
   "name": "python",
   "nbconvert_exporter": "python",
   "pygments_lexer": "ipython3",
   "version": "3.7.12"
  }
 },
 "nbformat": 4,
 "nbformat_minor": 5
}
